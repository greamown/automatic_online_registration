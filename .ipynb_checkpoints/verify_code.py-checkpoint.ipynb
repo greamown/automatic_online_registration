{
 "cells": [
  {
   "cell_type": "code",
   "execution_count": 1,
   "id": "9e5a5c8e",
   "metadata": {},
   "outputs": [
    {
     "name": "stderr",
     "output_type": "stream",
     "text": [
      "/usr/lib/python3/dist-packages/requests/__init__.py:89: RequestsDependencyWarning: urllib3 (1.26.14) or chardet (3.0.4) doesn't match a supported version!\n",
      "  warnings.warn(\"urllib3 ({}) or chardet ({}) doesn't match a supported \"\n"
     ]
    }
   ],
   "source": [
    "from webdriver_manager.chrome import ChromeDriverManager\n",
    "from selenium import webdriver\n",
    "import time, sys, argparse\n",
    "from datetime import datetime\n",
    "import subprocess, sys\n",
    "from common.operate_lib import first_step, two_step, final_step\n",
    "\n",
    "from selenium.webdriver.support.ui import Select\n",
    "from selenium.webdriver.common.by import By\n",
    "from selenium import webdriver\n",
    "import time\n",
    "from common.utils import element_present, alert_is_present, verfi_code_ocr"
   ]
  },
  {
   "cell_type": "code",
   "execution_count": 2,
   "id": "de45e8fa",
   "metadata": {},
   "outputs": [],
   "source": [
    "driver = webdriver.Chrome(ChromeDriverManager().install())"
   ]
  },
  {
   "cell_type": "code",
   "execution_count": 3,
   "id": "42984c96",
   "metadata": {},
   "outputs": [],
   "source": [
    "driver.get(\"https://npm.cpami.gov.tw/apply_2_1.aspx\")"
   ]
  },
  {
   "cell_type": "code",
   "execution_count": null,
   "id": "948c7b19",
   "metadata": {},
   "outputs": [
    {
     "name": "stderr",
     "output_type": "stream",
     "text": [
      "qt.qpa.plugin: Could not find the Qt platform plugin \"wayland\" in \"/home/xiang/.local/lib/python3.8/site-packages/cv2/qt/plugins\"\n"
     ]
    }
   ],
   "source": [
    "driver.find_element(By.NAME, 'ctl00$ContentPlaceHolder1$vcode').send_keys(verfi_code_ocr(driver, \"ContentPlaceHolder1_imgcode\"))"
   ]
  },
  {
   "cell_type": "code",
   "execution_count": 5,
   "id": "016e9d95",
   "metadata": {},
   "outputs": [],
   "source": [
    "# driver.find_element(By.XPATH, \"//a[@href='apply_2_1.aspx']\").click()"
   ]
  },
  {
   "cell_type": "code",
   "execution_count": null,
   "id": "2bde52d8",
   "metadata": {},
   "outputs": [],
   "source": []
  }
 ],
 "metadata": {
  "kernelspec": {
   "display_name": "Python 3 (ipykernel)",
   "language": "python",
   "name": "python3"
  },
  "language_info": {
   "codemirror_mode": {
    "name": "ipython",
    "version": 3
   },
   "file_extension": ".py",
   "mimetype": "text/x-python",
   "name": "python",
   "nbconvert_exporter": "python",
   "pygments_lexer": "ipython3",
   "version": "3.8.10"
  }
 },
 "nbformat": 4,
 "nbformat_minor": 5
}
