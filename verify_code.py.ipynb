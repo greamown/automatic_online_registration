{
 "cells": [
  {
   "cell_type": "code",
   "execution_count": 1,
   "id": "1b03c916",
   "metadata": {},
   "outputs": [
    {
     "name": "stderr",
     "output_type": "stream",
     "text": [
      "/usr/lib/python3/dist-packages/requests/__init__.py:89: RequestsDependencyWarning: urllib3 (1.26.14) or chardet (3.0.4) doesn't match a supported version!\n",
      "  warnings.warn(\"urllib3 ({}) or chardet ({}) doesn't match a supported \"\n"
     ]
    }
   ],
   "source": [
    "from webdriver_manager.chrome import ChromeDriverManager\n",
    "from selenium import webdriver\n",
    "import time, sys, argparse\n",
    "from datetime import datetime\n",
    "import subprocess, sys\n",
    "from common.operate_lib import first_step, two_step, final_step\n",
    "\n",
    "from selenium.webdriver.support.ui import Select\n",
    "from selenium.webdriver.common.by import By\n",
    "from selenium import webdriver\n",
    "import time\n",
    "from common.utils import element_present, alert_is_present, verfi_code_ocr"
   ]
  },
  {
   "cell_type": "code",
   "execution_count": 2,
   "id": "7bf533b6",
   "metadata": {},
   "outputs": [],
   "source": [
    "driver = webdriver.Chrome(ChromeDriverManager().install())"
   ]
  },
  {
   "cell_type": "code",
   "execution_count": 3,
   "id": "8f74d62f",
   "metadata": {},
   "outputs": [],
   "source": [
    "driver.get(\"https://npm.cpami.gov.tw/apply_2_1.aspx\")"
   ]
  },
  {
   "cell_type": "code",
   "execution_count": 4,
   "id": "4ba8d0a9",
   "metadata": {},
   "outputs": [
    {
     "ename": "NoSuchElementException",
     "evalue": "Message: no such element: Unable to locate element: {\"method\":\"css selector\",\"selector\":\"[name=\"ctl00$ContentPlaceHolder1$vcode\"]\"}\n  (Session info: chrome=110.0.5481.177)\nStacktrace:\n#0 0x55f32e7ffd93 <unknown>\n#1 0x55f32e5ce2d7 <unknown>\n#2 0x55f32e60acaa <unknown>\n#3 0x55f32e60adb1 <unknown>\n#4 0x55f32e6488f4 <unknown>\n#5 0x55f32e62e61d <unknown>\n#6 0x55f32e646619 <unknown>\n#7 0x55f32e62e353 <unknown>\n#8 0x55f32e5fde40 <unknown>\n#9 0x55f32e5ff038 <unknown>\n#10 0x55f32e8538be <unknown>\n#11 0x55f32e8578f0 <unknown>\n#12 0x55f32e837f90 <unknown>\n#13 0x55f32e858b7d <unknown>\n#14 0x55f32e829578 <unknown>\n#15 0x55f32e87d348 <unknown>\n#16 0x55f32e87d4d6 <unknown>\n#17 0x55f32e897341 <unknown>\n#18 0x7febe463b609 start_thread\n",
     "output_type": "error",
     "traceback": [
      "\u001b[0;31m---------------------------------------------------------------------------\u001b[0m",
      "\u001b[0;31mNoSuchElementException\u001b[0m                    Traceback (most recent call last)",
      "Cell \u001b[0;32mIn[4], line 1\u001b[0m\n\u001b[0;32m----> 1\u001b[0m \u001b[43mdriver\u001b[49m\u001b[38;5;241;43m.\u001b[39;49m\u001b[43mfind_element\u001b[49m\u001b[43m(\u001b[49m\u001b[43mBy\u001b[49m\u001b[38;5;241;43m.\u001b[39;49m\u001b[43mNAME\u001b[49m\u001b[43m,\u001b[49m\u001b[43m \u001b[49m\u001b[38;5;124;43m'\u001b[39;49m\u001b[38;5;124;43mctl00$ContentPlaceHolder1$vcode\u001b[39;49m\u001b[38;5;124;43m'\u001b[39;49m\u001b[43m)\u001b[49m\u001b[38;5;241m.\u001b[39msend_keys(verfi_code_ocr(driver, \u001b[38;5;124m\"\u001b[39m\u001b[38;5;124mContentPlaceHolder1_imgcode\u001b[39m\u001b[38;5;124m\"\u001b[39m))\n",
      "File \u001b[0;32m/usr/local/lib/python3.8/dist-packages/selenium/webdriver/remote/webdriver.py:830\u001b[0m, in \u001b[0;36mWebDriver.find_element\u001b[0;34m(self, by, value)\u001b[0m\n\u001b[1;32m    827\u001b[0m     by \u001b[38;5;241m=\u001b[39m By\u001b[38;5;241m.\u001b[39mCSS_SELECTOR\n\u001b[1;32m    828\u001b[0m     value \u001b[38;5;241m=\u001b[39m \u001b[38;5;124mf\u001b[39m\u001b[38;5;124m'\u001b[39m\u001b[38;5;124m[name=\u001b[39m\u001b[38;5;124m\"\u001b[39m\u001b[38;5;132;01m{\u001b[39;00mvalue\u001b[38;5;132;01m}\u001b[39;00m\u001b[38;5;124m\"\u001b[39m\u001b[38;5;124m]\u001b[39m\u001b[38;5;124m'\u001b[39m\n\u001b[0;32m--> 830\u001b[0m \u001b[38;5;28;01mreturn\u001b[39;00m \u001b[38;5;28;43mself\u001b[39;49m\u001b[38;5;241;43m.\u001b[39;49m\u001b[43mexecute\u001b[49m\u001b[43m(\u001b[49m\u001b[43mCommand\u001b[49m\u001b[38;5;241;43m.\u001b[39;49m\u001b[43mFIND_ELEMENT\u001b[49m\u001b[43m,\u001b[49m\u001b[43m \u001b[49m\u001b[43m{\u001b[49m\u001b[38;5;124;43m\"\u001b[39;49m\u001b[38;5;124;43musing\u001b[39;49m\u001b[38;5;124;43m\"\u001b[39;49m\u001b[43m:\u001b[49m\u001b[43m \u001b[49m\u001b[43mby\u001b[49m\u001b[43m,\u001b[49m\u001b[43m \u001b[49m\u001b[38;5;124;43m\"\u001b[39;49m\u001b[38;5;124;43mvalue\u001b[39;49m\u001b[38;5;124;43m\"\u001b[39;49m\u001b[43m:\u001b[49m\u001b[43m \u001b[49m\u001b[43mvalue\u001b[49m\u001b[43m}\u001b[49m\u001b[43m)\u001b[49m[\u001b[38;5;124m\"\u001b[39m\u001b[38;5;124mvalue\u001b[39m\u001b[38;5;124m\"\u001b[39m]\n",
      "File \u001b[0;32m/usr/local/lib/python3.8/dist-packages/selenium/webdriver/remote/webdriver.py:440\u001b[0m, in \u001b[0;36mWebDriver.execute\u001b[0;34m(self, driver_command, params)\u001b[0m\n\u001b[1;32m    438\u001b[0m response \u001b[38;5;241m=\u001b[39m \u001b[38;5;28mself\u001b[39m\u001b[38;5;241m.\u001b[39mcommand_executor\u001b[38;5;241m.\u001b[39mexecute(driver_command, params)\n\u001b[1;32m    439\u001b[0m \u001b[38;5;28;01mif\u001b[39;00m response:\n\u001b[0;32m--> 440\u001b[0m     \u001b[38;5;28;43mself\u001b[39;49m\u001b[38;5;241;43m.\u001b[39;49m\u001b[43merror_handler\u001b[49m\u001b[38;5;241;43m.\u001b[39;49m\u001b[43mcheck_response\u001b[49m\u001b[43m(\u001b[49m\u001b[43mresponse\u001b[49m\u001b[43m)\u001b[49m\n\u001b[1;32m    441\u001b[0m     response[\u001b[38;5;124m\"\u001b[39m\u001b[38;5;124mvalue\u001b[39m\u001b[38;5;124m\"\u001b[39m] \u001b[38;5;241m=\u001b[39m \u001b[38;5;28mself\u001b[39m\u001b[38;5;241m.\u001b[39m_unwrap_value(response\u001b[38;5;241m.\u001b[39mget(\u001b[38;5;124m\"\u001b[39m\u001b[38;5;124mvalue\u001b[39m\u001b[38;5;124m\"\u001b[39m, \u001b[38;5;28;01mNone\u001b[39;00m))\n\u001b[1;32m    442\u001b[0m     \u001b[38;5;28;01mreturn\u001b[39;00m response\n",
      "File \u001b[0;32m/usr/local/lib/python3.8/dist-packages/selenium/webdriver/remote/errorhandler.py:245\u001b[0m, in \u001b[0;36mErrorHandler.check_response\u001b[0;34m(self, response)\u001b[0m\n\u001b[1;32m    243\u001b[0m         alert_text \u001b[38;5;241m=\u001b[39m value[\u001b[38;5;124m\"\u001b[39m\u001b[38;5;124malert\u001b[39m\u001b[38;5;124m\"\u001b[39m]\u001b[38;5;241m.\u001b[39mget(\u001b[38;5;124m\"\u001b[39m\u001b[38;5;124mtext\u001b[39m\u001b[38;5;124m\"\u001b[39m)\n\u001b[1;32m    244\u001b[0m     \u001b[38;5;28;01mraise\u001b[39;00m exception_class(message, screen, stacktrace, alert_text)  \u001b[38;5;66;03m# type: ignore[call-arg]  # mypy is not smart enough here\u001b[39;00m\n\u001b[0;32m--> 245\u001b[0m \u001b[38;5;28;01mraise\u001b[39;00m exception_class(message, screen, stacktrace)\n",
      "\u001b[0;31mNoSuchElementException\u001b[0m: Message: no such element: Unable to locate element: {\"method\":\"css selector\",\"selector\":\"[name=\"ctl00$ContentPlaceHolder1$vcode\"]\"}\n  (Session info: chrome=110.0.5481.177)\nStacktrace:\n#0 0x55f32e7ffd93 <unknown>\n#1 0x55f32e5ce2d7 <unknown>\n#2 0x55f32e60acaa <unknown>\n#3 0x55f32e60adb1 <unknown>\n#4 0x55f32e6488f4 <unknown>\n#5 0x55f32e62e61d <unknown>\n#6 0x55f32e646619 <unknown>\n#7 0x55f32e62e353 <unknown>\n#8 0x55f32e5fde40 <unknown>\n#9 0x55f32e5ff038 <unknown>\n#10 0x55f32e8538be <unknown>\n#11 0x55f32e8578f0 <unknown>\n#12 0x55f32e837f90 <unknown>\n#13 0x55f32e858b7d <unknown>\n#14 0x55f32e829578 <unknown>\n#15 0x55f32e87d348 <unknown>\n#16 0x55f32e87d4d6 <unknown>\n#17 0x55f32e897341 <unknown>\n#18 0x7febe463b609 start_thread\n"
     ]
    }
   ],
   "source": [
    "driver.find_element(By.NAME, 'ctl00$ContentPlaceHolder1$vcode').send_keys(verfi_code_ocr(driver, \"ContentPlaceHolder1_imgcode\"))"
   ]
  },
  {
   "cell_type": "code",
   "execution_count": null,
   "id": "ba10d626",
   "metadata": {},
   "outputs": [],
   "source": [
    "# driver.find_element(By.XPATH, \"//a[@href='apply_2_1.aspx']\").click()"
   ]
  },
  {
   "cell_type": "code",
   "execution_count": null,
   "id": "53613ddb",
   "metadata": {},
   "outputs": [],
   "source": []
  }
 ],
 "metadata": {
  "kernelspec": {
   "display_name": "Python 3 (ipykernel)",
   "language": "python",
   "name": "python3"
  },
  "language_info": {
   "codemirror_mode": {
    "name": "ipython",
    "version": 3
   },
   "file_extension": ".py",
   "mimetype": "text/x-python",
   "name": "python",
   "nbconvert_exporter": "python",
   "pygments_lexer": "ipython3",
   "version": "3.8.10"
  }
 },
 "nbformat": 4,
 "nbformat_minor": 5
}
